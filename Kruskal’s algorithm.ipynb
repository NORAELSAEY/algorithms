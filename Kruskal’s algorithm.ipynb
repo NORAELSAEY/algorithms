{
 "cells": [
  {
   "cell_type": "code",
   "execution_count": 1,
   "id": "ef3ae7fc",
   "metadata": {
    "scrolled": true
   },
   "outputs": [
    {
     "name": "stdout",
     "output_type": "stream",
     "text": [
      "Edges in MST:\n",
      "2 -- 3 == 4\n",
      "0 -- 3 == 5\n",
      "0 -- 1 == 10\n"
     ]
    }
   ],
   "source": [
    "class UnionFind:\n",
    "    def __init__(self, n):\n",
    "        self.parent = list(range(n))\n",
    "        self.rank = [0] * n\n",
    "\n",
    "    def find(self, u):\n",
    "        if self.parent[u] != u:\n",
    "            self.parent[u] = self.find(self.parent[u])  # Path compression\n",
    "        return self.parent[u]\n",
    "\n",
    "    def union(self, u, v):\n",
    "        root_u = self.find(u)\n",
    "        root_v = self.find(v)\n",
    "        if root_u != root_v:\n",
    "            if self.rank[root_u] > self.rank[root_v]:\n",
    "                self.parent[root_v] = root_u\n",
    "            elif self.rank[root_u] < self.rank[root_v]:\n",
    "                self.parent[root_u] = root_v\n",
    "            else:\n",
    "                self.parent[root_v] = root_u\n",
    "                self.rank[root_u] += 1\n",
    "\n",
    "def kruskal_mst(vertices, edges):\n",
    "    # Sort edges by weight\n",
    "    edges.sort(key=lambda edge: edge[2])\n",
    "    mst = []  # To store the MST edges\n",
    "    uf = UnionFind(vertices)\n",
    "\n",
    "    for u, v, weight in edges:\n",
    "        if uf.find(u) != uf.find(v):  # If adding this edge does not form a cycle\n",
    "            uf.union(u, v)\n",
    "            mst.append((u, v, weight))\n",
    "\n",
    "    return mst\n",
    "\n",
    "# Example Usage\n",
    "if __name__ == \"__main__\":\n",
    "    vertices = 4  # Number of vertices\n",
    "    edges = [\n",
    "        (0, 1, 10),  # Edge from 0 to 1 with weight 10\n",
    "        (0, 2, 6),\n",
    "        (0, 3, 5),\n",
    "        (1, 3, 15),\n",
    "        (2, 3, 4)\n",
    "    ]\n",
    "\n",
    "    mst = kruskal_mst(vertices, edges)\n",
    "    print(\"Edges in MST:\")\n",
    "    for u, v, weight in mst:\n",
    "        print(f\"{u} -- {v} == {weight}\")\n"
   ]
  }
 ],
 "metadata": {
  "kernelspec": {
   "display_name": "Python 3 (ipykernel)",
   "language": "python",
   "name": "python3"
  },
  "language_info": {
   "codemirror_mode": {
    "name": "ipython",
    "version": 3
   },
   "file_extension": ".py",
   "mimetype": "text/x-python",
   "name": "python",
   "nbconvert_exporter": "python",
   "pygments_lexer": "ipython3",
   "version": "3.10.9"
  }
 },
 "nbformat": 4,
 "nbformat_minor": 5
}
